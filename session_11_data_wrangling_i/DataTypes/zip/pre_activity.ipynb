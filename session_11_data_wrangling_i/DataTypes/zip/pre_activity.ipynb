{
 "cells": [
  {
   "cell_type": "code",
   "execution_count": 22,
   "metadata": {},
   "outputs": [],
   "source": [
    "import pandas as pd\n",
    "df = pd.read_csv('sets.csv')"
   ]
  },
  {
   "cell_type": "code",
   "execution_count": 4,
   "metadata": {},
   "outputs": [],
   "source": [
    "missing_count = df.isnull().sum()"
   ]
  },
  {
   "cell_type": "code",
   "execution_count": 5,
   "metadata": {},
   "outputs": [
    {
     "data": {
      "text/plain": [
       "set_num      0\n",
       "name         0\n",
       "year         0\n",
       "theme_id     0\n",
       "num_parts    0\n",
       "dtype: int64"
      ]
     },
     "execution_count": 5,
     "metadata": {},
     "output_type": "execute_result"
    }
   ],
   "source": [
    "missing_count"
   ]
  },
  {
   "cell_type": "code",
   "execution_count": 7,
   "metadata": {},
   "outputs": [],
   "source": [
    "df = df.dropna()"
   ]
  },
  {
   "cell_type": "code",
   "execution_count": null,
   "metadata": {},
   "outputs": [
    {
     "data": {
      "text/html": [
       "<div>\n",
       "<style scoped>\n",
       "    .dataframe tbody tr th:only-of-type {\n",
       "        vertical-align: middle;\n",
       "    }\n",
       "\n",
       "    .dataframe tbody tr th {\n",
       "        vertical-align: top;\n",
       "    }\n",
       "\n",
       "    .dataframe thead th {\n",
       "        text-align: right;\n",
       "    }\n",
       "</style>\n",
       "<table border=\"1\" class=\"dataframe\">\n",
       "  <thead>\n",
       "    <tr style=\"text-align: right;\">\n",
       "      <th></th>\n",
       "      <th>set_num</th>\n",
       "      <th>name</th>\n",
       "      <th>year</th>\n",
       "      <th>theme_id</th>\n",
       "      <th>num_parts</th>\n",
       "    </tr>\n",
       "  </thead>\n",
       "  <tbody>\n",
       "    <tr>\n",
       "      <th>0</th>\n",
       "      <td>00-1</td>\n",
       "      <td>Weetabix Castle</td>\n",
       "      <td>1970</td>\n",
       "      <td>414</td>\n",
       "      <td>471</td>\n",
       "    </tr>\n",
       "    <tr>\n",
       "      <th>22</th>\n",
       "      <td>066-1</td>\n",
       "      <td>Basic Building Set</td>\n",
       "      <td>1968</td>\n",
       "      <td>366</td>\n",
       "      <td>407</td>\n",
       "    </tr>\n",
       "    <tr>\n",
       "      <th>23</th>\n",
       "      <td>080-1</td>\n",
       "      <td>Basic Building Set with Train</td>\n",
       "      <td>1967</td>\n",
       "      <td>366</td>\n",
       "      <td>710</td>\n",
       "    </tr>\n",
       "    <tr>\n",
       "      <th>24</th>\n",
       "      <td>088-1</td>\n",
       "      <td>Super Set</td>\n",
       "      <td>1969</td>\n",
       "      <td>469</td>\n",
       "      <td>615</td>\n",
       "    </tr>\n",
       "    <tr>\n",
       "      <th>26</th>\n",
       "      <td>10001-1</td>\n",
       "      <td>Metroliner</td>\n",
       "      <td>2001</td>\n",
       "      <td>233</td>\n",
       "      <td>785</td>\n",
       "    </tr>\n",
       "    <tr>\n",
       "      <th>...</th>\n",
       "      <td>...</td>\n",
       "      <td>...</td>\n",
       "      <td>...</td>\n",
       "      <td>...</td>\n",
       "      <td>...</td>\n",
       "    </tr>\n",
       "    <tr>\n",
       "      <th>11230</th>\n",
       "      <td>k34432-1</td>\n",
       "      <td>Lego Mosaic Dino</td>\n",
       "      <td>2003</td>\n",
       "      <td>277</td>\n",
       "      <td>2846</td>\n",
       "    </tr>\n",
       "    <tr>\n",
       "      <th>11231</th>\n",
       "      <td>k34433-1</td>\n",
       "      <td>Lego Mosaic Johnny Thunder</td>\n",
       "      <td>2003</td>\n",
       "      <td>277</td>\n",
       "      <td>2126</td>\n",
       "    </tr>\n",
       "    <tr>\n",
       "      <th>11232</th>\n",
       "      <td>k34434-1</td>\n",
       "      <td>Lego Mosaic Tiger</td>\n",
       "      <td>2003</td>\n",
       "      <td>277</td>\n",
       "      <td>2216</td>\n",
       "    </tr>\n",
       "    <tr>\n",
       "      <th>11422</th>\n",
       "      <td>LIT2009-1</td>\n",
       "      <td>LEGO Inside Tour (LIT) Exclusive 2009 Edition ...</td>\n",
       "      <td>2009</td>\n",
       "      <td>301</td>\n",
       "      <td>909</td>\n",
       "    </tr>\n",
       "    <tr>\n",
       "      <th>11614</th>\n",
       "      <td>SWMP-1</td>\n",
       "      <td>Star Wars / M&amp;M Mosaic - Promo Set</td>\n",
       "      <td>2005</td>\n",
       "      <td>169</td>\n",
       "      <td>5461</td>\n",
       "    </tr>\n",
       "  </tbody>\n",
       "</table>\n",
       "<p>1367 rows × 5 columns</p>\n",
       "</div>"
      ],
      "text/plain": [
       "         set_num                                               name  year  \\\n",
       "0           00-1                                    Weetabix Castle  1970   \n",
       "22         066-1                                 Basic Building Set  1968   \n",
       "23         080-1                      Basic Building Set with Train  1967   \n",
       "24         088-1                                          Super Set  1969   \n",
       "26       10001-1                                         Metroliner  2001   \n",
       "...          ...                                                ...   ...   \n",
       "11230   k34432-1                                   Lego Mosaic Dino  2003   \n",
       "11231   k34433-1                         Lego Mosaic Johnny Thunder  2003   \n",
       "11232   k34434-1                                  Lego Mosaic Tiger  2003   \n",
       "11422  LIT2009-1  LEGO Inside Tour (LIT) Exclusive 2009 Edition ...  2009   \n",
       "11614     SWMP-1                 Star Wars / M&M Mosaic - Promo Set  2005   \n",
       "\n",
       "       theme_id  num_parts  \n",
       "0           414        471  \n",
       "22          366        407  \n",
       "23          366        710  \n",
       "24          469        615  \n",
       "26          233        785  \n",
       "...         ...        ...  \n",
       "11230       277       2846  \n",
       "11231       277       2126  \n",
       "11232       277       2216  \n",
       "11422       301        909  \n",
       "11614       169       5461  \n",
       "\n",
       "[1367 rows x 5 columns]"
      ]
     },
     "execution_count": 35,
     "metadata": {},
     "output_type": "execute_result"
    }
   ],
   "source": [
    "df[(df['num_parts'] > 400) & (df['year'] == 1970)]"
   ]
  },
  {
   "cell_type": "code",
   "execution_count": 28,
   "metadata": {},
   "outputs": [
    {
     "data": {
      "text/plain": [
       "0"
      ]
     },
     "execution_count": 28,
     "metadata": {},
     "output_type": "execute_result"
    }
   ],
   "source": [
    "sum(df.duplicated())"
   ]
  },
  {
   "cell_type": "code",
   "execution_count": 17,
   "metadata": {},
   "outputs": [
    {
     "data": {
      "text/plain": [
       "set_num      object\n",
       "name         object\n",
       "year          int64\n",
       "theme_id      int64\n",
       "num_parts     int64\n",
       "dtype: object"
      ]
     },
     "execution_count": 17,
     "metadata": {},
     "output_type": "execute_result"
    }
   ],
   "source": [
    "df.dtypes"
   ]
  },
  {
   "cell_type": "code",
   "execution_count": null,
   "metadata": {},
   "outputs": [],
   "source": []
  }
 ],
 "metadata": {
  "kernelspec": {
   "display_name": "Python 3",
   "language": "python",
   "name": "python3"
  },
  "language_info": {
   "codemirror_mode": {
    "name": "ipython",
    "version": 3
   },
   "file_extension": ".py",
   "mimetype": "text/x-python",
   "name": "python",
   "nbconvert_exporter": "python",
   "pygments_lexer": "ipython3",
   "version": "3.13.1"
  }
 },
 "nbformat": 4,
 "nbformat_minor": 2
}
