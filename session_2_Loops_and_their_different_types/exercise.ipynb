{
 "cells": [
  {
   "cell_type": "code",
   "execution_count": 8,
   "metadata": {},
   "outputs": [
    {
     "name": "stdout",
     "output_type": "stream",
     "text": [
      "[10, 20, 30, 40, 50, 60]\n"
     ]
    }
   ],
   "source": [
    "my_list = [10, 20, 30, 40, 50]\n",
    "my_list.append(60)\n",
    "print(my_list)"
   ]
  },
  {
   "cell_type": "code",
   "execution_count": null,
   "metadata": {},
   "outputs": [
    {
     "name": "stdout",
     "output_type": "stream",
     "text": [
      "[10, 20, 40, 50]\n"
     ]
    }
   ],
   "source": [
    "my_list = [10, 20, 30, 40, 50]\n",
    "my_list.remove(30)\n",
    "print(my_list)\n",
    "#insert(index, value)\n"
   ]
  },
  {
   "cell_type": "code",
   "execution_count": null,
   "metadata": {},
   "outputs": [
    {
     "name": "stdout",
     "output_type": "stream",
     "text": [
      "[10, 20, 40, 50]\n"
     ]
    }
   ],
   "source": [
    "my_list = [10, 20, 30, 40, 50, 30, 30 , 70, 30]\n",
    "my_list.remove(30)\n",
    "my_list.remove(30)\n",
    "print(my_list)\n"
   ]
  },
  {
   "cell_type": "code",
   "execution_count": 14,
   "metadata": {},
   "outputs": [
    {
     "name": "stdout",
     "output_type": "stream",
     "text": [
      "30\n"
     ]
    }
   ],
   "source": [
    "my_list = [10, 20, 30, 40, 50]\n",
    "print(my_list[2])\n"
   ]
  },
  {
   "cell_type": "code",
   "execution_count": 15,
   "metadata": {},
   "outputs": [
    {
     "name": "stdout",
     "output_type": "stream",
     "text": [
      "[20, 30, 40]\n"
     ]
    }
   ],
   "source": [
    "my_list = [10, 20, 30, 40, 50]\n",
    "print(my_list[1:4])\n"
   ]
  },
  {
   "cell_type": "code",
   "execution_count": 16,
   "metadata": {},
   "outputs": [
    {
     "name": "stdout",
     "output_type": "stream",
     "text": [
      "[5, 20, 30, 40, 50]\n"
     ]
    }
   ],
   "source": [
    "my_list = [10, 20, 30, 40, 50]\n",
    "my_list[0] = 5\n",
    "print(my_list)"
   ]
  },
  {
   "cell_type": "code",
   "execution_count": 17,
   "metadata": {},
   "outputs": [
    {
     "name": "stdout",
     "output_type": "stream",
     "text": [
      "[10, 20, 30, 40, 50, 70, 80, 90]\n"
     ]
    }
   ],
   "source": [
    "my_list = [10, 20, 30, 40, 50]\n",
    "new_list = [70, 80, 90]\n",
    "combined_list = my_list + new_list\n",
    "print(combined_list)\n"
   ]
  },
  {
   "cell_type": "code",
   "execution_count": null,
   "metadata": {},
   "outputs": [
    {
     "name": "stdout",
     "output_type": "stream",
     "text": [
      "5\n"
     ]
    }
   ],
   "source": [
    "print(len(my_list))"
   ]
  },
  {
   "cell_type": "code",
   "execution_count": null,
   "metadata": {},
   "outputs": [
    {
     "name": "stdout",
     "output_type": "stream",
     "text": [
      "1\n",
      "Zeyad\n",
      "Lina\n",
      "4\n"
     ]
    }
   ],
   "source": [
    "for side in [\"1\", \"Zeyad\", \"Lina\", 4]:\n",
    "    #side = 4\n",
    "    print(side)"
   ]
  },
  {
   "cell_type": "code",
   "execution_count": null,
   "metadata": {},
   "outputs": [
    {
     "name": "stdout",
     "output_type": "stream",
     "text": [
      "0\n",
      "1\n",
      "2\n",
      "3\n",
      "4\n"
     ]
    }
   ],
   "source": [
    "for i in range(5): #stop    start = 0  step= 1\n",
    "    print(i)"
   ]
  },
  {
   "cell_type": "code",
   "execution_count": 24,
   "metadata": {},
   "outputs": [
    {
     "name": "stdout",
     "output_type": "stream",
     "text": [
      "Dolage\n",
      "Sama\n",
      "Yassin\n"
     ]
    }
   ],
   "source": [
    "new_list = [\"Dolage\", \"Sama\", \"Yassin\"]\n",
    "for index in range(len(new_list)):  #start = 0  step = 1  stop = 3\n",
    "    print(new_list[index])\n",
    "    "
   ]
  },
  {
   "cell_type": "code",
   "execution_count": 22,
   "metadata": {},
   "outputs": [
    {
     "name": "stdout",
     "output_type": "stream",
     "text": [
      "-3\n",
      "-1\n",
      "1\n",
      "3\n",
      "5\n"
     ]
    }
   ],
   "source": [
    "for i in range(-3,6,2):\n",
    "    # -3 -1  1  3  5\n",
    "    print(i)"
   ]
  },
  {
   "cell_type": "code",
   "execution_count": 26,
   "metadata": {},
   "outputs": [
    {
     "name": "stdout",
     "output_type": "stream",
     "text": [
      "1\n",
      "--------\n",
      "2\n",
      "--------\n",
      "3\n",
      "--------\n",
      "4\n",
      "--------\n",
      "5\n",
      "--------\n"
     ]
    },
    {
     "data": {
      "text/plain": [
       "'\\n1\\n--------\\n2\\n--------\\n3\\n--------\\n4\\n--------\\n5\\n--------\\n'"
      ]
     },
     "execution_count": 26,
     "metadata": {},
     "output_type": "execute_result"
    }
   ],
   "source": [
    "x = [1, 2, 3 , 4 , 5]\n",
    "for i in x:\n",
    "   #i = 1\n",
    "   print(i)\n",
    "   print('--------')\n",
    "   \n",
    "\"\"\"\n",
    "1\n",
    "--------\n",
    "2\n",
    "--------\n",
    "3\n",
    "--------\n",
    "4\n",
    "--------\n",
    "5\n",
    "--------\n",
    "\"\"\"\n"
   ]
  },
  {
   "cell_type": "markdown",
   "metadata": {},
   "source": []
  },
  {
   "cell_type": "code",
   "execution_count": 27,
   "metadata": {},
   "outputs": [
    {
     "name": "stdout",
     "output_type": "stream",
     "text": [
      "1\n",
      "--------\n",
      "2\n",
      "--------\n",
      "3\n",
      "--------\n",
      "4\n",
      "--------\n"
     ]
    }
   ],
   "source": [
    "x = [1, 2, 3 , 4]\n",
    "for i in x:\n",
    "   print(i)\n",
    "   print('--------')\n"
   ]
  },
  {
   "cell_type": "code",
   "execution_count": 28,
   "metadata": {},
   "outputs": [
    {
     "name": "stdout",
     "output_type": "stream",
     "text": [
      "1\n",
      "--------\n",
      "1\n",
      "**\n",
      "2\n",
      "**\n",
      "2\n",
      "--------\n",
      "1\n",
      "**\n",
      "2\n",
      "**\n",
      "3\n",
      "--------\n",
      "1\n",
      "**\n",
      "2\n",
      "**\n",
      "4\n",
      "--------\n",
      "1\n",
      "**\n",
      "2\n",
      "**\n"
     ]
    },
    {
     "data": {
      "text/plain": [
       "'\\n1\\n--------\\n1\\n**\\n2\\n**\\n2\\n--------\\n1\\n**\\n2\\n**\\n3\\n--------\\n1\\n**\\n2\\n**\\n\\n\\n\\n\\n\\n'"
      ]
     },
     "execution_count": 28,
     "metadata": {},
     "output_type": "execute_result"
    }
   ],
   "source": [
    "x = [1, 2, 3 , 4]\n",
    "for i in x:\n",
    "   print(i)\n",
    "   print('--------')\n",
    "   for y in [1,2]:\n",
    "       print(y)\n",
    "       print('**')\n",
    "\"\"\"\n",
    "1\n",
    "--------\n",
    "1\n",
    "**\n",
    "2\n",
    "**\n",
    "2\n",
    "--------\n",
    "1\n",
    "**\n",
    "2\n",
    "**\n",
    "3\n",
    "--------\n",
    "1\n",
    "**\n",
    "2\n",
    "**\n",
    "\n",
    "\n",
    "\n",
    "\n",
    "\n",
    "\"\"\"\n"
   ]
  },
  {
   "cell_type": "code",
   "execution_count": 2,
   "metadata": {},
   "outputs": [
    {
     "name": "stdout",
     "output_type": "stream",
     "text": [
      "Hi Mohamed,\n",
      "You are invited to my party!\n",
      "Hi Youssef,\n",
      "You are invited to my party!\n",
      "Hi Ali,\n",
      "You are invited to my party!\n",
      "Hi Mariam,\n",
      "You are invited to my party!\n",
      "Hi Reem,\n",
      "You are invited to my party!\n",
      "Hi Sara,\n",
      "You are invited to my party!\n"
     ]
    }
   ],
   "source": [
    "Guest_1 = \"Mohamed\"  \n",
    "print(\"Hi \" + Guest_1 + \",\")\n",
    "print(\"You are invited to my party!\")\n",
    "Guest_2 = \"Youssef\"  \n",
    "print(\"Hi \" + Guest_2 + \",\")\n",
    "print(\"You are invited to my party!\")\n",
    "Guest_3 = \"Ali\"  \n",
    "print(\"Hi \" + Guest_3 + \",\")\n",
    "print(\"You are invited to my party!\")\n",
    "Guest_4 = \"Mariam\"  \n",
    "print(\"Hi \" + Guest_4 + \",\")\n",
    "print(\"You are invited to my party!\")\n",
    "Guest_5 = \"Reem\"  \n",
    "print(\"Hi \" + Guest_5 + \",\")\n",
    "print(\"You are invited to my party!\")\n",
    "Guest_6 = \"Sara\"  \n",
    "print(\"Hi \" + Guest_6 + \",\")\n",
    "print(\"You are invited to my party!\")"
   ]
  },
  {
   "cell_type": "code",
   "execution_count": null,
   "metadata": {},
   "outputs": [
    {
     "name": "stdout",
     "output_type": "stream",
     "text": [
      "Hi Ali,\n",
      "You are invited to my party!\n"
     ]
    }
   ],
   "source": [
    "Guests = [\"Mohamed\", \"Youssef\", \"Ali\", \"Mariam\", \"Reem\", \"Sara\"]\n",
    "print(\"Hi \" + Guests[2] +\",\")\n",
    "print(\"You are invited to my party!\")"
   ]
  },
  {
   "cell_type": "code",
   "execution_count": 7,
   "metadata": {},
   "outputs": [
    {
     "name": "stdout",
     "output_type": "stream",
     "text": [
      "Sara\n"
     ]
    }
   ],
   "source": [
    "print(Guests[-1])"
   ]
  }
 ],
 "metadata": {
  "kernelspec": {
   "display_name": "Python 3",
   "language": "python",
   "name": "python3"
  },
  "language_info": {
   "codemirror_mode": {
    "name": "ipython",
    "version": 3
   },
   "file_extension": ".py",
   "mimetype": "text/x-python",
   "name": "python",
   "nbconvert_exporter": "python",
   "pygments_lexer": "ipython3",
   "version": "3.10.7"
  }
 },
 "nbformat": 4,
 "nbformat_minor": 2
}
