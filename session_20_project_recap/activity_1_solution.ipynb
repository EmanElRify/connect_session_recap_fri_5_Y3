{
 "cells": [
  {
   "cell_type": "code",
   "execution_count": 2,
   "id": "215d13de",
   "metadata": {},
   "outputs": [],
   "source": [
    "# Exercises on functions\n",
    "\n",
    "# Design a function that takes in a value and return the sum of all even numbers\n",
    "# between 1 and the passed value. Write the function once using for loop and once using while loop\n",
    "\n",
    "# While loop implementation\n",
    "def get_sum_even_numbers(n):\n",
    "    total = 0\n",
    "    i = 2\n",
    "    while i <= n:\n",
    "        total += i\n",
    "        i += 2\n",
    "    return total\n",
    "\n",
    "# For loop implementation\n",
    "def get_sum_even_numbers(n):\n",
    "    total = 0\n",
    "    for i in range(n+1):\n",
    "        if i%2 == 0:\n",
    "            total += i\n",
    "    return total\n",
    "\n",
    "\n",
    "\n",
    "\n",
    "# Design a function that takes in a value n and returns a list of n elements composed\n",
    "# of random numbers between 1 and 1000\n",
    "\n",
    "import random\n",
    "def random_generator(n):\n",
    "    final_list = []\n",
    "    while len(final_list) < n:\n",
    "        final_list.append(random.randint(1, 1000))\n",
    "    return final_list\n",
    "\n",
    "\n",
    "\n",
    "\n",
    "\n",
    "# Design a function that uses the random_generator funtion to generate a list\n",
    "# of n randomly generated numbers and returns the average of said list\n",
    "\n",
    "def get_average(n):\n",
    "    random_list = random_generator(n)\n",
    "    return sum(random_list) / len(random_list)\n",
    "\n",
    "\n",
    "\n",
    "\n",
    "\n",
    "# Tweak the random_generator function so that there would not be any duplicates of randomly chosen numbers\n",
    "# using while loops\n",
    "import random\n",
    "def random_generator(n):\n",
    "    final_list = []\n",
    "    while len(final_list) < n:\n",
    "        generated_number = random.randint(1, 1000)\n",
    "        while generated_number in final_list:\n",
    "            generated_number = random.randint(1, 1000)\n",
    "        final_list.append(generated_number)\n",
    "    return final_list\n",
    "\n",
    "\n",
    "\n",
    "# Design a function that uses the random_generator funtion to return a list of x random elements (using random.sample or random.choices) \n",
    "# from the randomly generated list of n elements.\n",
    "\n",
    "\n",
    "def get_random_numbers(n, x):        \n",
    "    random_list = random_generator(n)\n",
    "    return random.choices(random_list, k=x)"
   ]
  },
  {
   "cell_type": "code",
   "execution_count": 3,
   "id": "f57b54e4",
   "metadata": {},
   "outputs": [
    {
     "data": {
      "text/plain": [
       "42"
      ]
     },
     "execution_count": 3,
     "metadata": {},
     "output_type": "execute_result"
    }
   ],
   "source": [
    "get_sum_even_numbers(12) \n"
   ]
  },
  {
   "cell_type": "code",
   "execution_count": 4,
   "id": "5ca6c450",
   "metadata": {},
   "outputs": [
    {
     "data": {
      "text/plain": [
       "[725, 567, 386]"
      ]
     },
     "execution_count": 4,
     "metadata": {},
     "output_type": "execute_result"
    }
   ],
   "source": [
    "random_generator(3) #randint\n"
   ]
  },
  {
   "cell_type": "code",
   "execution_count": 5,
   "id": "2dafc0a2",
   "metadata": {},
   "outputs": [
    {
     "data": {
      "text/plain": [
       "[419, 471, 419]"
      ]
     },
     "execution_count": 5,
     "metadata": {},
     "output_type": "execute_result"
    }
   ],
   "source": [
    "get_random_numbers(2, 3)"
   ]
  },
  {
   "cell_type": "code",
   "execution_count": 6,
   "id": "4a98b58f",
   "metadata": {},
   "outputs": [
    {
     "data": {
      "text/plain": [
       "[480, 320]"
      ]
     },
     "execution_count": 6,
     "metadata": {},
     "output_type": "execute_result"
    }
   ],
   "source": [
    "def random_generator_unique(n):\n",
    "    unique_randoms = []\n",
    "    while len(unique_randoms) < n:\n",
    "        num = random.randint(1, 1000)\n",
    "        if num not in unique_randoms:\n",
    "            unique_randoms.append(num)\n",
    "    return unique_randoms\n",
    "\n",
    "random_generator_unique(2)\n"
   ]
  },
  {
   "cell_type": "code",
   "execution_count": 13,
   "id": "d2c3a281",
   "metadata": {},
   "outputs": [
    {
     "name": "stdout",
     "output_type": "stream",
     "text": [
      "0\n",
      "1\n"
     ]
    }
   ],
   "source": [
    "\n",
    "def test_():\n",
    "    # comment\n",
    "    pass\n",
    "\n",
    "\n",
    "# comment\n",
    "def cave():\n",
    "    global total_score\n",
    "    total_score += 1\n",
    "   \n",
    "total_score = 0\n",
    "print(total_score)\n",
    "cave()\n",
    "print(total_score)"
   ]
  },
  {
   "cell_type": "code",
   "execution_count": null,
   "id": "307c40c9",
   "metadata": {},
   "outputs": [],
   "source": []
  }
 ],
 "metadata": {
  "kernelspec": {
   "display_name": "Python 3",
   "language": "python",
   "name": "python3"
  },
  "language_info": {
   "codemirror_mode": {
    "name": "ipython",
    "version": 3
   },
   "file_extension": ".py",
   "mimetype": "text/x-python",
   "name": "python",
   "nbconvert_exporter": "python",
   "pygments_lexer": "ipython3",
   "version": "3.12.9"
  }
 },
 "nbformat": 4,
 "nbformat_minor": 5
}
