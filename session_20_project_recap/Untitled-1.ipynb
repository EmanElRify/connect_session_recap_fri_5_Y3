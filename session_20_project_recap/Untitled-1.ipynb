{
 "cells": [
  {
   "cell_type": "code",
   "execution_count": null,
   "id": "4b8ab77b",
   "metadata": {},
   "outputs": [
    {
     "name": "stdout",
     "output_type": "stream",
     "text": [
      "the game starts\n"
     ]
    },
    {
     "name": "stdout",
     "output_type": "stream",
     "text": [
      "the game starts\n",
      "the game starts\n",
      "Thanks\n"
     ]
    }
   ],
   "source": [
    "\n",
    "def main():\n",
    "   print(\"the game starts\")\n",
    "   n = input()\n",
    "   if n == \"1\":\n",
    "      main()\n",
    "   else:\n",
    "      print(\"Thanks\")\n",
    "\n",
    "main()"
   ]
  },
  {
   "cell_type": "code",
   "execution_count": 20,
   "id": "6cef9c3d",
   "metadata": {},
   "outputs": [
    {
     "name": "stdout",
     "output_type": "stream",
     "text": [
      "The game starts\n",
      "The game starts\n",
      "Thanks!\n"
     ]
    }
   ],
   "source": [
    "n = \"1\"\n",
    "while n == \"1\":\n",
    "   print(\"The game starts\")\n",
    "   n = input()\n",
    "   if n != \"1\":\n",
    "      print(\"Thanks!\")\n",
    "      break\n",
    "   "
   ]
  },
  {
   "cell_type": "code",
   "execution_count": 21,
   "id": "32b0fb2e",
   "metadata": {},
   "outputs": [
    {
     "name": "stdout",
     "output_type": "stream",
     "text": [
      "Hello\n"
     ]
    }
   ],
   "source": [
    "if __name__ == \"__main__\":\n",
    "    print(\"Hello\")"
   ]
  }
 ],
 "metadata": {
  "kernelspec": {
   "display_name": "Python 3",
   "language": "python",
   "name": "python3"
  },
  "language_info": {
   "codemirror_mode": {
    "name": "ipython",
    "version": 3
   },
   "file_extension": ".py",
   "mimetype": "text/x-python",
   "name": "python",
   "nbconvert_exporter": "python",
   "pygments_lexer": "ipython3",
   "version": "3.13.1"
  }
 },
 "nbformat": 4,
 "nbformat_minor": 5
}
